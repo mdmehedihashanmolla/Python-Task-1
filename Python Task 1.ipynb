{
 "cells": [
  {
   "cell_type": "markdown",
   "id": "fbd075b9-ec08-471d-9ad5-4941d82c8889",
   "metadata": {},
   "source": [
    "### Q1. Create a function which will take a list as an arguments and return the product of all the numbers after creating a flat list."
   ]
  },
  {
   "cell_type": "code",
   "execution_count": 1,
   "id": "e621ef77-3140-433b-bf2d-ee201bec6f27",
   "metadata": {},
   "outputs": [
    {
     "name": "stdout",
     "output_type": "stream",
     "text": [
      "[1, 2, 3, 4, 44, 55, 66, 34, 56, 78, 89, 34, 1, 2, 3, 1, 34, 55, 67, 78, 89, 4, 45, 22, 61, 34, 56]\n"
     ]
    },
    {
     "data": {
      "text/plain": [
       "4134711838987085478833841242112000"
      ]
     },
     "execution_count": 1,
     "metadata": {},
     "output_type": "execute_result"
    }
   ],
   "source": [
    "def get_flat_list(*arg):\n",
    "    flat_list = []\n",
    "    for items in list1:\n",
    "        if type(items) == int:\n",
    "            flat_list.append(items)\n",
    "        elif type(items) == list:\n",
    "            for sub_item in items:\n",
    "                if type(sub_item) == int:\n",
    "                    flat_list.append(sub_item)\n",
    "        elif type(items) == str:\n",
    "            pass\n",
    "        elif type(items) == tuple:\n",
    "            for sub_item in items:\n",
    "                if type(sub_item) == int:\n",
    "                    flat_list.append(sub_item)\n",
    "        elif type(items) == set:\n",
    "            for sub_item in items:\n",
    "                if type(sub_item) == int:\n",
    "                    flat_list.append(sub_item)\n",
    "        elif type(items) == dict:\n",
    "            for sub_item in items:\n",
    "                if type(sub_item) == int:\n",
    "                    flat_list.append(sub_item)\n",
    "                if type(items[sub_item]) == int:\n",
    "                    flat_list.append(items[sub_item])\n",
    "                if type(sub_item) == str:\n",
    "                    pass\n",
    "                if type(items[sub_item]) == list or type(items[sub_item]) == tuple:\n",
    "                    for i in items[sub_item]:\n",
    "                        flat_list.append(i)\n",
    "        elif type(items) == list:\n",
    "            for sub_item in items:\n",
    "                if type(sub_item) == int:\n",
    "                    flat_list.append(sub_item)\n",
    "        else:\n",
    "            pass\n",
    "\n",
    "    print(flat_list)\n",
    "    value = 1\n",
    "    for i in flat_list:\n",
    "        value = value * i\n",
    "    \n",
    "    return value\n",
    "list1 = [1, 2, 3, 4, [44, 55, 66, True], False, (34, 56, 78, 89, 34), {1, 2, 3, 3, 2, 1}, {1: 34, \"key2\": [55, 67, 78, 89], 4: (45, 22, 61, 34)}, [56, 'data science'], 'Machine Learning']\n",
    "\n",
    "get_flat_list(list1)"
   ]
  },
  {
   "cell_type": "markdown",
   "id": "0067244c-f0f7-481e-81b8-3c060faf865a",
   "metadata": {},
   "source": [
    "### Q2. Write a python program for encrypting message sent to you by your friend. The logic of encryption should be such that , for a the output should be z.For b, the output should be y. For c, the output should be x respectively. Also, the whitespace should be replaced with a dollar sign. Keep the punctuation marks unchanged.\n",
    "### Input Sentence :  I want to become a Data Scientist."
   ]
  },
  {
   "cell_type": "code",
   "execution_count": 15,
   "id": "fc6851b1-ef9e-4a5c-ae43-f2b0fb2e68ef",
   "metadata": {},
   "outputs": [
    {
     "name": "stdin",
     "output_type": "stream",
     "text": [
      "Enter a message:  I want to become a Data Scientist\n"
     ]
    },
    {
     "name": "stdout",
     "output_type": "stream",
     "text": [
      "R$dzmg$gl$yvxlnv$z$Wzgz$Hxrvmgrhg\n"
     ]
    }
   ],
   "source": [
    "def Encryption_Message():\n",
    "    message = input(\"Enter a message: \")\n",
    "    encrypted_message = \"\"\n",
    "    for char in message:\n",
    "        if char.isalpha():\n",
    "            if char.islower():\n",
    "                encrypted_char = chr(ord('z') - (ord(char) - ord('a')))\n",
    "            else:\n",
    "                encrypted_char = chr(ord('Z') - (ord(char) - ord('A')))\n",
    "            encrypted_message += encrypted_char\n",
    "        elif char == \" \":\n",
    "            encrypted_message += \"$\"\n",
    "        else:\n",
    "            encrypted_message += char\n",
    "    return encrypted_message\n",
    "\n",
    "print(Encryption_Message())\n"
   ]
  },
  {
   "cell_type": "code",
   "execution_count": null,
   "id": "d7acbb6f-9019-4f81-81ab-d59dff810b66",
   "metadata": {},
   "outputs": [],
   "source": []
  }
 ],
 "metadata": {
  "kernelspec": {
   "display_name": "Python 3 (ipykernel)",
   "language": "python",
   "name": "python3"
  },
  "language_info": {
   "codemirror_mode": {
    "name": "ipython",
    "version": 3
   },
   "file_extension": ".py",
   "mimetype": "text/x-python",
   "name": "python",
   "nbconvert_exporter": "python",
   "pygments_lexer": "ipython3",
   "version": "3.10.6"
  }
 },
 "nbformat": 4,
 "nbformat_minor": 5
}
